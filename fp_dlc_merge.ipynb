{
 "cells": [
  {
   "cell_type": "code",
   "execution_count": null,
   "id": "314b3b9b",
   "metadata": {},
   "outputs": [],
   "source": [
    "import pandas as pd\n",
    "import os\n",
    "\n",
    "fp_folder = \"/Users/\"\n",
    "fp_file = \".csv\"\n",
    "fp_csv = os.path.join(fp_folder, fp_file)\n",
    "\n",
    "fp = pd.read_csv(fp_csv)\n",
    "print(len(fp))\n",
    "fp.head()"
   ]
  },
  {
   "cell_type": "code",
   "execution_count": null,
   "id": "b94ce653",
   "metadata": {},
   "outputs": [],
   "source": [
    "dlc_folder = \"/Users/\"\n",
    "dlc_file = \".csv\"\n",
    "dlc_csv = os.path.join(dlc_folder, dlc_file)\n",
    "\n",
    "dlc = pd.read_csv(dlc_csv, header=[0, 1, 2], index_col=0)\n",
    "print(len(dlc))\n",
    "dlc.head()"
   ]
  },
  {
   "cell_type": "code",
   "execution_count": null,
   "id": "d3e7ad0c",
   "metadata": {},
   "outputs": [],
   "source": [
    "dlc.columns = ['_'.join(col[1:]).strip() for col in dlc.columns.values]\n",
    "\n",
    "min_rows = min(len(dlc), len(fp))\n",
    "\n",
    "dlc_synced = dlc.iloc[:min_rows]\n",
    "fp_synced = fp.iloc[:min_rows]\n",
    "\n",
    "dlc_synced = dlc_synced.reset_index(drop=True)\n",
    "fp_synced = fp_synced.reset_index(drop=True)\n",
    "\n",
    "df_merged = pd.concat([dlc_synced, fp_synced], axis=1)"
   ]
  },
  {
   "cell_type": "code",
   "execution_count": null,
   "id": "b1c25903",
   "metadata": {},
   "outputs": [],
   "source": [
    "\n",
    "rename = fp_file.replace(\"Fluorescence_\", \"\")\n",
    "rename = rename.replace(\".csv\", \"\")\n",
    "\n",
    "output_name = f\"merged_{rename}.csv\"\n",
    "output_path = os.path.join(dlc_folder, output_name)\n",
    "\n",
    "df_merged.to_csv(output_path, index=False)"
   ]
  }
 ],
 "metadata": {
  "kernelspec": {
   "display_name": "myenv",
   "language": "python",
   "name": "python3"
  },
  "language_info": {
   "codemirror_mode": {
    "name": "ipython",
    "version": 3
   },
   "file_extension": ".py",
   "mimetype": "text/x-python",
   "name": "python",
   "nbconvert_exporter": "python",
   "pygments_lexer": "ipython3",
   "version": "3.13.7"
  }
 },
 "nbformat": 4,
 "nbformat_minor": 5
}
